{
 "cells": [
  {
   "attachments": {},
   "cell_type": "markdown",
   "metadata": {},
   "source": [
    "# DataJoint Elements for Optogenetics\n",
    "\n",
    "#### Open-source data pipeline for processing and analyzing optogenetics datasets.\n",
    "\n",
    "Welcome to the tutorial for the DataJoint Element for optogenetics. This\n",
    "tutorial aims to provide a comprehensive understanding of the open-source data pipeline\n",
    "created using `element-optogenetics`.\n",
    "\n",
    "This package is designed to seamlessly ingest and track optogenetics data. By the end of this\n",
    "tutorial you will have a clear grasp on setting up and integrating `element-optogenetics`\n",
    "into your specific research projects and lab. \n",
    "\n",
    "![flowchart](../images/diagram_flowchart.svg)\n",
    "\n",
    "### Prerequisites\n",
    "\n",
    "Please see the [datajoint tutorials GitHub\n",
    "repository](https://github.com/datajoint/datajoint-tutorials/tree/main) before\n",
    "proceeding. \n",
    "\n",
    "#### **Tutorial Overview**\n",
    "\n",
    "+ Setup\n",
    "+ *Activate* the DataJoint pipeline.\n",
    "+ *Insert* subject, session, surgery metadata.\n",
    "+ *Insert* optogenetics recording data.\n",
    "+ Query and view data\n",
    "\n",
    "### **Setup**\n",
    "\n",
    "This tutorial examines DataJoint tables that track optogenetics data. The goal is to store, track\n",
    "and manage all metadata associated with optogenetics experiments, including surgical\n",
    "implanation data. \n",
    "\n",
    "The results of this Element can be combined with **other modalities** to create\n",
    "a complete, customizable data pipeline for your specific lab or study. For instance, you\n",
    "can combine `element-optogenetics` with `element-array-ephys` and\n",
    "`element-event` to characterize the neural activity during specific optogenetic stimulus\n",
    "events.\n",
    "\n",
    "Let's start this tutorial by importing the packages necessary to run the notebook."
   ]
  },
  {
   "cell_type": "code",
   "execution_count": 1,
   "metadata": {},
   "outputs": [],
   "source": [
    "import datajoint as dj\n",
    "import datetime\n",
    "import matplotlib.pyplot as plt\n",
    "import numpy as np"
   ]
  },
  {
   "cell_type": "markdown",
   "metadata": {},
   "source": [
    "If the tutorial is run in Codespaces, a private, local database server is created and\n",
    "made available for you. This is where we will insert and store our processed results.\n",
    "Let's connect to the database server."
   ]
  },
  {
   "cell_type": "code",
   "execution_count": 2,
   "metadata": {},
   "outputs": [
    {
     "name": "stderr",
     "output_type": "stream",
     "text": [
      "[2024-01-04 20:00:17,037][INFO]: Connecting root@fakeservices.datajoint.io:3306\n",
      "[2024-01-04 20:00:17,044][INFO]: Connected root@fakeservices.datajoint.io:3306\n"
     ]
    },
    {
     "data": {
      "text/plain": [
       "DataJoint connection (connected) root@fakeservices.datajoint.io:3306"
      ]
     },
     "execution_count": 2,
     "metadata": {},
     "output_type": "execute_result"
    }
   ],
   "source": [
    "dj.conn()"
   ]
  },
  {
   "cell_type": "markdown",
   "metadata": {},
   "source": [
    "### **Activate the DataJoint Pipeline**\n",
    "\n",
    "This tutorial activates the `optogenetics.py` module from `element-optogenetics`, along\n",
    "with upstream dependencies from `element-animal` and `element-session`. Please refer to the\n",
    "[`tutorial_pipeline.py`](./tutorial_pipeline.py) for the source code."
   ]
  },
  {
   "cell_type": "code",
   "execution_count": 3,
   "metadata": {},
   "outputs": [
    {
     "name": "stderr",
     "output_type": "stream",
     "text": [
      "[2024-01-04 20:00:18,332][WARNING]: lab.Project and related tables will be removed in a future version of Element Lab. Please use the project schema.\n"
     ]
    }
   ],
   "source": [
    "from tutorial_pipeline import lab, subject, surgery, session, optogenetics, Device"
   ]
  },
  {
   "cell_type": "markdown",
   "metadata": {},
   "source": [
    "We can represent the tables in the `optogenetics` schemas as well as some of the\n",
    "upstream dependencies to `session` and `subject` schemas as a diagram."
   ]
  },
  {
   "cell_type": "code",
   "execution_count": 5,
   "metadata": {},
   "outputs": [
    {
     "data": {
      "image/svg+xml": [
       "<svg xmlns=\"http://www.w3.org/2000/svg\" xmlns:xlink=\"http://www.w3.org/1999/xlink\" width=\"1079pt\" height=\"327pt\" viewBox=\"0.00 0.00 1079.00 327.00\">\n",
       "<g id=\"graph0\" class=\"graph\" transform=\"scale(1 1) rotate(0) translate(4 323)\">\n",
       "<title>%3</title>\n",
       "<polygon fill=\"white\" stroke=\"transparent\" points=\"-4,4 -4,-323 1075,-323 1075,4 -4,4\"/>\n",
       "<!-- optogenetics.OptoWaveform.Square -->\n",
       "<g id=\"node1\" class=\"node\">\n",
       "<title>optogenetics.OptoWaveform.Square</title>\n",
       "<g id=\"a_node1\"><a xlink:title=\"→ optogenetics.OptoWaveform\r------------------------------\ron_proportion        \roff_proportion       \r\">\n",
       "<polygon fill=\"transparent\" stroke=\"transparent\" points=\"503.5,-169 329.5,-169 329.5,-150 503.5,-150 503.5,-169\"/>\n",
       "<text text-anchor=\"middle\" x=\"416.5\" y=\"-157\" font-family=\"arial\" font-size=\"10.00\">optogenetics.OptoWaveform.Square</text>\n",
       "</a>\n",
       "</g>\n",
       "</g>\n",
       "<!-- Device -->\n",
       "<g id=\"node2\" class=\"node\">\n",
       "<title>Device</title>\n",
       "<g id=\"a_node2\"><a xlink:title=\"device               \r------------------------------\rmodality             \rdescription=&quot;&quot;       \r\">\n",
       "<polygon fill=\"#000000\" fill-opacity=\"0.125490\" stroke=\"transparent\" points=\"47,-177 0,-177 0,-142 47,-142 47,-177\"/>\n",
       "<text text-anchor=\"start\" x=\"8\" y=\"-158\" font-family=\"arial\" text-decoration=\"underline\" font-size=\"10.00\">Device</text>\n",
       "</a>\n",
       "</g>\n",
       "</g>\n",
       "<!-- optogenetics.OptoProtocol -->\n",
       "<g id=\"node7\" class=\"node\">\n",
       "<title>optogenetics.OptoProtocol</title>\n",
       "<g id=\"a_node7\"><a xlink:title=\"→ session.Session\rprotocol_id          \r------------------------------\r→ optogenetics.OptoStimParams\r→ surgery.Implantation\r→ [nullable] Device\rprotocol_description=&quot;&quot; \r\">\n",
       "<polygon fill=\"#00ff00\" fill-opacity=\"0.188235\" stroke=\"#00ff00\" stroke-opacity=\"0.188235\" points=\"272.5,-106 114.5,-106 114.5,-71 272.5,-71 272.5,-106\"/>\n",
       "<text text-anchor=\"start\" x=\"122.5\" y=\"-86.4\" font-family=\"arial\" text-decoration=\"underline\" font-size=\"12.00\" fill=\"darkgreen\">optogenetics.OptoProtocol</text>\n",
       "</a>\n",
       "</g>\n",
       "</g>\n",
       "<!-- Device&#45;&gt;optogenetics.OptoProtocol -->\n",
       "<g id=\"edge1\" class=\"edge\">\n",
       "<title>Device-&gt;optogenetics.OptoProtocol</title>\n",
       "<path fill=\"none\" stroke=\"#000000\" stroke-width=\"0.75\" stroke-dasharray=\"5,2\" stroke-opacity=\"0.250980\" d=\"M47.16,-146.32C50.28,-144.82 53.45,-143.34 56.5,-142 86.22,-128.91 120.32,-115.84 147.06,-106.01\"/>\n",
       "</g>\n",
       "<!-- surgery.Implantation -->\n",
       "<g id=\"node3\" class=\"node\">\n",
       "<title>surgery.Implantation</title>\n",
       "<g id=\"a_node3\"><a xlink:title=\"→ subject.Subject\rimplant_date         \r→ surgery.ImplantationType\r→ surgery.BrainRegion.proj(target_region=&quot;region_acronym&quot;)\r→ surgery.Hemisphere.proj(target_hemisphere=&quot;hemisphere&quot;)\r------------------------------\r→ lab.User.proj(surgeon=&quot;user&quot;)\rimplant_comment=&quot;&quot;   \r\">\n",
       "<polygon fill=\"#00ff00\" fill-opacity=\"0.188235\" stroke=\"#00ff00\" stroke-opacity=\"0.188235\" points=\"189.5,-177 65.5,-177 65.5,-142 189.5,-142 189.5,-177\"/>\n",
       "<text text-anchor=\"start\" x=\"73.5\" y=\"-157.4\" font-family=\"arial\" text-decoration=\"underline\" font-size=\"12.00\" fill=\"darkgreen\">surgery.Implantation</text>\n",
       "</a>\n",
       "</g>\n",
       "</g>\n",
       "<!-- surgery.Implantation&#45;&gt;optogenetics.OptoProtocol -->\n",
       "<g id=\"edge2\" class=\"edge\">\n",
       "<title>surgery.Implantation-&gt;optogenetics.OptoProtocol</title>\n",
       "<path fill=\"none\" stroke=\"#000000\" stroke-width=\"0.75\" stroke-dasharray=\"5,2\" stroke-opacity=\"0.250980\" d=\"M143.48,-141.8C153.85,-130.95 167.32,-116.87 177.67,-106.05\"/>\n",
       "</g>\n",
       "<!-- subject.Subject -->\n",
       "<g id=\"node4\" class=\"node\">\n",
       "<title>subject.Subject</title>\n",
       "<g id=\"a_node4\"><a xlink:title=\"subject              \r------------------------------\rsubject_nickname=&quot;&quot;  \rsex                  \rsubject_birth_date   \rsubject_description=&quot;&quot; \r\">\n",
       "<polygon fill=\"#00ff00\" fill-opacity=\"0.188235\" stroke=\"#00ff00\" stroke-opacity=\"0.188235\" points=\"242.5,-248 144.5,-248 144.5,-213 242.5,-213 242.5,-248\"/>\n",
       "<text text-anchor=\"start\" x=\"152.5\" y=\"-228.4\" font-family=\"arial\" text-decoration=\"underline\" font-size=\"12.00\" fill=\"darkgreen\">subject.Subject</text>\n",
       "</a>\n",
       "</g>\n",
       "</g>\n",
       "<!-- subject.Subject&#45;&gt;surgery.Implantation -->\n",
       "<g id=\"edge3\" class=\"edge\">\n",
       "<title>subject.Subject-&gt;surgery.Implantation</title>\n",
       "<path fill=\"none\" stroke=\"#000000\" stroke-width=\"0.75\" stroke-opacity=\"0.250980\" d=\"M177.52,-212.8C167.15,-201.95 153.68,-187.87 143.33,-177.05\"/>\n",
       "</g>\n",
       "<!-- session.Session -->\n",
       "<g id=\"node12\" class=\"node\">\n",
       "<title>session.Session</title>\n",
       "<g id=\"a_node12\"><a xlink:title=\"→ subject.Subject\rsession_id           \r------------------------------\rsession_datetime=null \r\">\n",
       "<polygon fill=\"#00ff00\" fill-opacity=\"0.188235\" stroke=\"#00ff00\" stroke-opacity=\"0.188235\" points=\"311.5,-177 207.5,-177 207.5,-142 311.5,-142 311.5,-177\"/>\n",
       "<text text-anchor=\"start\" x=\"215.5\" y=\"-157.4\" font-family=\"arial\" text-decoration=\"underline\" font-size=\"12.00\" fill=\"darkgreen\">session.Session</text>\n",
       "</a>\n",
       "</g>\n",
       "</g>\n",
       "<!-- subject.Subject&#45;&gt;session.Session -->\n",
       "<g id=\"edge4\" class=\"edge\">\n",
       "<title>subject.Subject-&gt;session.Session</title>\n",
       "<path fill=\"none\" stroke=\"#000000\" stroke-width=\"0.75\" stroke-opacity=\"0.250980\" d=\"M209.48,-212.8C219.85,-201.95 233.32,-187.87 243.67,-177.05\"/>\n",
       "</g>\n",
       "<!-- optogenetics.OptoWaveformType -->\n",
       "<g id=\"node5\" class=\"node\">\n",
       "<title>optogenetics.OptoWaveformType</title>\n",
       "<g id=\"a_node5\"><a xlink:title=\"waveform_type        \r\">\n",
       "<polygon fill=\"#000000\" fill-opacity=\"0.125490\" stroke=\"transparent\" points=\"684,-319 523,-319 523,-284 684,-284 684,-319\"/>\n",
       "<text text-anchor=\"start\" x=\"531\" y=\"-300\" font-family=\"arial\" text-decoration=\"underline\" font-size=\"10.00\">optogenetics.OptoWaveformType</text>\n",
       "</a>\n",
       "</g>\n",
       "</g>\n",
       "<!-- optogenetics.OptoWaveform -->\n",
       "<g id=\"node10\" class=\"node\">\n",
       "<title>optogenetics.OptoWaveform</title>\n",
       "<g id=\"a_node10\"><a xlink:title=\"waveform_name        \r------------------------------\r→ optogenetics.OptoWaveformType\rnormalized_waveform=null \rwaveform_description=&quot;&quot; \r\">\n",
       "<polygon fill=\"#000000\" fill-opacity=\"0.125490\" stroke=\"transparent\" points=\"673.5,-248 533.5,-248 533.5,-213 673.5,-213 673.5,-248\"/>\n",
       "<text text-anchor=\"start\" x=\"541.5\" y=\"-229\" font-family=\"arial\" text-decoration=\"underline\" font-size=\"10.00\">optogenetics.OptoWaveform</text>\n",
       "</a>\n",
       "</g>\n",
       "</g>\n",
       "<!-- optogenetics.OptoWaveformType&#45;&gt;optogenetics.OptoWaveform -->\n",
       "<g id=\"edge5\" class=\"edge\">\n",
       "<title>optogenetics.OptoWaveformType-&gt;optogenetics.OptoWaveform</title>\n",
       "<path fill=\"none\" stroke=\"#000000\" stroke-width=\"0.75\" stroke-dasharray=\"5,2\" stroke-opacity=\"0.250980\" d=\"M603.5,-283.8C603.5,-272.95 603.5,-258.87 603.5,-248.05\"/>\n",
       "</g>\n",
       "<!-- optogenetics.OptoWaveform.Sine -->\n",
       "<g id=\"node6\" class=\"node\">\n",
       "<title>optogenetics.OptoWaveform.Sine</title>\n",
       "<g id=\"a_node6\"><a xlink:title=\"→ optogenetics.OptoWaveform\r------------------------------\rnumber_of_cycles     \rstarting_phase=0.00  \r\">\n",
       "<polygon fill=\"transparent\" stroke=\"transparent\" points=\"685,-169 522,-169 522,-150 685,-150 685,-169\"/>\n",
       "<text text-anchor=\"middle\" x=\"603.5\" y=\"-157\" font-family=\"arial\" font-size=\"10.00\">optogenetics.OptoWaveform.Sine</text>\n",
       "</a>\n",
       "</g>\n",
       "</g>\n",
       "<!-- optogenetics.OptoEvent -->\n",
       "<g id=\"node9\" class=\"node\">\n",
       "<title>optogenetics.OptoEvent</title>\n",
       "<g id=\"a_node9\"><a xlink:title=\"→ optogenetics.OptoProtocol\rstim_start_time      \r------------------------------\rstim_end_time        \r\">\n",
       "<polygon fill=\"#00ff00\" fill-opacity=\"0.188235\" stroke=\"#00ff00\" stroke-opacity=\"0.188235\" points=\"265.5,-35 121.5,-35 121.5,0 265.5,0 265.5,-35\"/>\n",
       "<text text-anchor=\"start\" x=\"129.5\" y=\"-15.4\" font-family=\"arial\" text-decoration=\"underline\" font-size=\"12.00\" fill=\"darkgreen\">optogenetics.OptoEvent</text>\n",
       "</a>\n",
       "</g>\n",
       "</g>\n",
       "<!-- optogenetics.OptoProtocol&#45;&gt;optogenetics.OptoEvent -->\n",
       "<g id=\"edge6\" class=\"edge\">\n",
       "<title>optogenetics.OptoProtocol-&gt;optogenetics.OptoEvent</title>\n",
       "<path fill=\"none\" stroke=\"#000000\" stroke-width=\"0.75\" stroke-opacity=\"0.250980\" d=\"M193.5,-70.8C193.5,-59.95 193.5,-45.87 193.5,-35.05\"/>\n",
       "</g>\n",
       "<!-- optogenetics.OptoWaveform.Ramp -->\n",
       "<g id=\"node8\" class=\"node\">\n",
       "<title>optogenetics.OptoWaveform.Ramp</title>\n",
       "<g id=\"a_node8\"><a xlink:title=\"→ optogenetics.OptoWaveform\r------------------------------\rramp_up_proportion   \rramp_down_proportion \r\">\n",
       "<polygon fill=\"transparent\" stroke=\"transparent\" points=\"873.5,-169 703.5,-169 703.5,-150 873.5,-150 873.5,-169\"/>\n",
       "<text text-anchor=\"middle\" x=\"788.5\" y=\"-157\" font-family=\"arial\" font-size=\"10.00\">optogenetics.OptoWaveform.Ramp</text>\n",
       "</a>\n",
       "</g>\n",
       "</g>\n",
       "<!-- optogenetics.OptoWaveform&#45;&gt;optogenetics.OptoWaveform.Square -->\n",
       "<g id=\"edge7\" class=\"edge\">\n",
       "<title>optogenetics.OptoWaveform-&gt;optogenetics.OptoWaveform.Square</title>\n",
       "<path fill=\"none\" stroke=\"#000000\" stroke-width=\"2\" stroke-opacity=\"0.250980\" d=\"M558.71,-212.97C521.22,-199.14 469.22,-179.95 439.61,-169.03\"/>\n",
       "</g>\n",
       "<!-- optogenetics.OptoWaveform&#45;&gt;optogenetics.OptoWaveform.Sine -->\n",
       "<g id=\"edge8\" class=\"edge\">\n",
       "<title>optogenetics.OptoWaveform-&gt;optogenetics.OptoWaveform.Sine</title>\n",
       "<path fill=\"none\" stroke=\"#000000\" stroke-width=\"2\" stroke-opacity=\"0.250980\" d=\"M603.5,-212.8C603.5,-199.08 603.5,-180.19 603.5,-169.27\"/>\n",
       "</g>\n",
       "<!-- optogenetics.OptoWaveform&#45;&gt;optogenetics.OptoWaveform.Ramp -->\n",
       "<g id=\"edge9\" class=\"edge\">\n",
       "<title>optogenetics.OptoWaveform-&gt;optogenetics.OptoWaveform.Ramp</title>\n",
       "<path fill=\"none\" stroke=\"#000000\" stroke-width=\"2\" stroke-opacity=\"0.250980\" d=\"M647.81,-212.97C684.9,-199.14 736.34,-179.95 765.64,-169.03\"/>\n",
       "</g>\n",
       "<!-- optogenetics.OptoStimParams -->\n",
       "<g id=\"node11\" class=\"node\">\n",
       "<title>optogenetics.OptoStimParams</title>\n",
       "<g id=\"a_node11\"><a xlink:title=\"opto_params_id       \r------------------------------\r→ optogenetics.OptoWaveform\rwavelength           \rpower=null           \rlight_intensity=null \rfrequency            \rduration             \r\">\n",
       "<polygon fill=\"#00ff00\" fill-opacity=\"0.188235\" stroke=\"#00ff00\" stroke-opacity=\"0.188235\" points=\"1071,-177 892,-177 892,-142 1071,-142 1071,-177\"/>\n",
       "<text text-anchor=\"start\" x=\"900\" y=\"-157.4\" font-family=\"arial\" text-decoration=\"underline\" font-size=\"12.00\" fill=\"darkgreen\">optogenetics.OptoStimParams</text>\n",
       "</a>\n",
       "</g>\n",
       "</g>\n",
       "<!-- optogenetics.OptoWaveform&#45;&gt;optogenetics.OptoStimParams -->\n",
       "<g id=\"edge10\" class=\"edge\">\n",
       "<title>optogenetics.OptoWaveform-&gt;optogenetics.OptoStimParams</title>\n",
       "<path fill=\"none\" stroke=\"#000000\" stroke-width=\"0.75\" stroke-dasharray=\"5,2\" stroke-opacity=\"0.250980\" d=\"M673.71,-216.68C735.31,-205.44 825.21,-189.03 891.97,-176.84\"/>\n",
       "</g>\n",
       "<!-- optogenetics.OptoStimParams&#45;&gt;optogenetics.OptoProtocol -->\n",
       "<g id=\"edge11\" class=\"edge\">\n",
       "<title>optogenetics.OptoStimParams-&gt;optogenetics.OptoProtocol</title>\n",
       "<path fill=\"none\" stroke=\"#000000\" stroke-width=\"0.75\" stroke-dasharray=\"5,2\" stroke-opacity=\"0.250980\" d=\"M891.97,-143.21C888.78,-142.78 885.61,-142.38 882.5,-142 662.33,-115.32 400.83,-99.79 272.51,-93.23\"/>\n",
       "</g>\n",
       "<!-- session.Session&#45;&gt;optogenetics.OptoProtocol -->\n",
       "<g id=\"edge12\" class=\"edge\">\n",
       "<title>session.Session-&gt;optogenetics.OptoProtocol</title>\n",
       "<path fill=\"none\" stroke=\"#000000\" stroke-width=\"0.75\" stroke-opacity=\"0.250980\" d=\"M243.52,-141.8C233.15,-130.95 219.68,-116.87 209.33,-106.05\"/>\n",
       "</g>\n",
       "</g>\n",
       "</svg>"
      ],
      "text/plain": [
       "<datajoint.diagram.Diagram at 0x7f1d2f4863a0>"
      ]
     },
     "execution_count": 5,
     "metadata": {},
     "output_type": "execute_result"
    }
   ],
   "source": [
    "(\n",
    "    dj.Diagram(subject.Subject) + dj.Diagram(surgery.Implantation)\n",
    "    + dj.Diagram(session.Session) + dj.Diagram(Device) + dj.Diagram(optogenetics)\n",
    ")"
   ]
  },
  {
   "cell_type": "markdown",
   "metadata": {},
   "source": [
    "As evident from the diagram, this data pipeline encompasses tables associated with\n",
    "recording and probe metadata, results of clustering, and optional curation of clustering\n",
    "results. A few tables, such as `subject.Subject` or `session.Session`,\n",
    "while important for a complete pipeline, fall outside the scope of the `element-optogenetics`\n",
    "tutorial, and will therefore, not be explored extensively here. The primary focus of\n",
    "this tutorial will be on the `optogenetics` schemas.\n",
    "\n",
    "### **Insert subject, surgery, and session metadata**\n",
    "\n",
    "Let's start with the first table in the schema diagram (i.e. `subject.Subject` table).\n",
    "\n",
    "To know what data to insert into the table, we can view its dependencies and attributes using the `.describe()` and `.heading` methods."
   ]
  },
  {
   "cell_type": "code",
   "execution_count": null,
   "metadata": {},
   "outputs": [],
   "source": [
    "subject.Subject()"
   ]
  },
  {
   "cell_type": "code",
   "execution_count": null,
   "metadata": {},
   "outputs": [],
   "source": [
    "print(subject.Subject.describe())"
   ]
  },
  {
   "cell_type": "code",
   "execution_count": null,
   "metadata": {},
   "outputs": [],
   "source": [
    "subject.Subject.heading"
   ]
  },
  {
   "attachments": {},
   "cell_type": "markdown",
   "metadata": {},
   "source": [
    "The cells above show all attributes of the subject table.\n",
    "We will insert data into the\n",
    "`subject.Subject` table. "
   ]
  },
  {
   "cell_type": "code",
   "execution_count": null,
   "metadata": {},
   "outputs": [],
   "source": [
    "subject.Subject.insert1(\n",
    "    dict(subject=\"subject1\", subject_birth_date=\"2023-01-01\", sex=\"U\")\n",
    ")\n",
    "subject.Subject()"
   ]
  },
  {
   "cell_type": "markdown",
   "metadata": {},
   "source": [
    "Let's repeat the steps above for the `Session` table and see how the output varies between\n",
    "`.describe` and `.heading`."
   ]
  },
  {
   "cell_type": "code",
   "execution_count": null,
   "metadata": {},
   "outputs": [],
   "source": [
    "print(session.Session.describe())"
   ]
  },
  {
   "cell_type": "code",
   "execution_count": null,
   "metadata": {},
   "outputs": [],
   "source": [
    "session.Session.heading"
   ]
  },
  {
   "attachments": {},
   "cell_type": "markdown",
   "metadata": {},
   "source": [
    "Notice that `describe`, displays the table's structure and highlights its dependencies, such as its reliance on the `Subject` table. These dependencies represent foreign key references, linking data across tables.\n",
    "\n",
    "On the other hand, `heading` provides an exhaustive list of the table's attributes. This\n",
    "list includes both the attributes declared in this table and any inherited from upstream\n",
    "tables.\n",
    "\n",
    "With this understanding, let's move on to insert a session associated with our subject.\n",
    "\n",
    "We will insert into the `session.Session` table by passing a dictionary to the `insert1` method."
   ]
  },
  {
   "cell_type": "code",
   "execution_count": null,
   "metadata": {},
   "outputs": [],
   "source": [
    "session_key = dict(subject=\"subject5\", session_datetime=\"2023-01-01 00:00:00\")"
   ]
  },
  {
   "cell_type": "code",
   "execution_count": null,
   "metadata": {},
   "outputs": [],
   "source": [
    "session.Session.insert1(session_key)\n",
    "session.Session()"
   ]
  },
  {
   "cell_type": "markdown",
   "metadata": {},
   "source": [
    "Every experimental session produces a set of data files. The purpose of the `SessionDirectory` table is to locate these files. It references a directory path relative to a root directory, defined in `dj.config[\"custom\"]`. More information about `dj.config` is provided in the [documentation](https://datajoint.com/docs/elements/user-guide/)."
   ]
  },
  {
   "cell_type": "code",
   "execution_count": null,
   "metadata": {},
   "outputs": [],
   "source": [
    "session.SessionDirectory.insert1(\n",
    "    dict(**session_key, session_dir=\"raw/subject5/session1\")\n",
    ")\n",
    "session.SessionDirectory()"
   ]
  },
  {
   "attachments": {},
   "cell_type": "markdown",
   "metadata": {},
   "source": [
    "As the Diagram indicates, the tables in the `probe` schemas need to\n",
    "contain data before the tables in the `ephys` schema accept any data. Let's\n",
    "start by inserting into `probe.Probe`, a table containing metadata about a\n",
    "multielectrode probe. "
   ]
  },
  {
   "cell_type": "code",
   "execution_count": null,
   "metadata": {},
   "outputs": [],
   "source": [
    "Device.insert1(\n",
    "    dict(\n",
    "        device=\"OPTG_8\",\n",
    "        modality=\"Optogenetics\",\n",
    "        description=\"8 channel pulse sequence device\",\n",
    "    )\n",
    ")\n",
    "Device()"
   ]
  },
  {
   "cell_type": "code",
   "execution_count": null,
   "metadata": {},
   "outputs": [],
   "source": [
    "lab.User.insert1(dict(user=\"User1\"))\n",
    "lab.User()"
   ]
  },
  {
   "attachments": {},
   "cell_type": "markdown",
   "metadata": {},
   "source": [
    "The probe metadata is used by the downstream `ProbeInsertion` table which we\n",
    "insert data into in the cells below:"
   ]
  },
  {
   "cell_type": "code",
   "execution_count": null,
   "metadata": {},
   "outputs": [],
   "source": [
    "surgery.CoordinateReference()"
   ]
  },
  {
   "cell_type": "code",
   "execution_count": null,
   "metadata": {},
   "outputs": [],
   "source": [
    "surgery.Hemisphere()"
   ]
  },
  {
   "cell_type": "code",
   "execution_count": null,
   "metadata": {},
   "outputs": [],
   "source": [
    "surgery.BrainRegion.insert1(\n",
    "    dict(region_acronym=\"dHP\", region_name=\"Dorsal Hippocampus\")\n",
    ")\n",
    "surgery.BrainRegion()"
   ]
  },
  {
   "cell_type": "code",
   "execution_count": null,
   "metadata": {},
   "outputs": [],
   "source": [
    "surgery.Implantation.insert1(\n",
    "    dict(\n",
    "        subject=\"subject1\",\n",
    "        implant_date=\"2022-04-01 12:13:14\",\n",
    "        implate_type=\"opto\",\n",
    "        target_region=\"dHP\",\n",
    "        target_hemisphere=\"left\",\n",
    "        surgeon=\"User1\",\n",
    "    )\n",
    ")\n",
    "\n",
    "surgery.Implantation.Coordinate.insert1(\n",
    "    dict(\n",
    "        subject=\"subject1\",\n",
    "        implant_date=\"2022-04-01 12:13:14\",\n",
    "        implate_type=\"opto\",\n",
    "        target_region=\"dHP\",\n",
    "        target_hemisphere=\"left\",\n",
    "        ap=\"-7.9\",\n",
    "        ap_ref=\"bregma\",\n",
    "        ml=\"-1.8\",\n",
    "        ml_ref=\"bregma\",\n",
    "        dv=\"5\",\n",
    "        dv_ref=\"skull_surface\",\n",
    "        theta=\"11.5\",\n",
    "        phi=\"0\",\n",
    "        beta=None,\n",
    "    )\n",
    ")"
   ]
  },
  {
   "cell_type": "markdown",
   "metadata": {},
   "source": [
    "Confirm the inserted information:"
   ]
  },
  {
   "cell_type": "code",
   "execution_count": null,
   "metadata": {},
   "outputs": [],
   "source": [
    "surgery.Implantation()"
   ]
  },
  {
   "cell_type": "code",
   "execution_count": null,
   "metadata": {},
   "outputs": [],
   "source": [
    "surgery.Implantation.Coordinate()"
   ]
  },
  {
   "cell_type": "code",
   "execution_count": null,
   "metadata": {},
   "outputs": [],
   "source": [
    "optogenetics.OptoWaveform.insert1(\n",
    "    dict(\n",
    "        waveform_name=\"square_10\",\n",
    "        waveform_type=\"square\",\n",
    "        waveform_description=\"Square waveform: 10%/90% on/off cycle\",\n",
    "    )\n",
    ")\n",
    "\n",
    "# Square is one part table of OptoWaveform.\n",
    "# For sine and ramp waveforms, see the corresponding tables.\n",
    "optogenetics.OptoWaveform.Square.insert1(\n",
    "    dict(waveform_name=\"square_10\", on_proportion=0.10, off_proportion=0.90)\n",
    ")"
   ]
  },
  {
   "cell_type": "code",
   "execution_count": null,
   "metadata": {},
   "outputs": [],
   "source": [
    "optogenetics.OptoStimParams.insert1(\n",
    "    dict(\n",
    "        opto_params_id=1,\n",
    "        waveform_name=\"square_10\",\n",
    "        wavelength=470,\n",
    "        light_intensity=10.2,\n",
    "        frequency=1,\n",
    "        duration=241,\n",
    "    )\n",
    ")"
   ]
  },
  {
   "cell_type": "code",
   "execution_count": null,
   "metadata": {},
   "outputs": [],
   "source": []
  },
  {
   "cell_type": "markdown",
   "metadata": {},
   "source": [
    "### **Populate electrophysiology recording metadata**\n",
    "\n",
    "In the upcoming cells, the `.populate()` method will automatically extract and store the\n",
    "recording metadata for each experimental session in the `ephys.EphysRecording` table and its part table `ephys.EphysRecording.EphysFile`."
   ]
  },
  {
   "cell_type": "code",
   "execution_count": null,
   "metadata": {},
   "outputs": [],
   "source": [
    "ephys.EphysRecording()"
   ]
  },
  {
   "cell_type": "code",
   "execution_count": null,
   "metadata": {},
   "outputs": [],
   "source": [
    "ephys.EphysRecording.EphysFile()"
   ]
  },
  {
   "cell_type": "code",
   "execution_count": null,
   "metadata": {},
   "outputs": [],
   "source": [
    "ephys.EphysRecording.populate(session_key, display_progress=True)"
   ]
  },
  {
   "attachments": {},
   "cell_type": "markdown",
   "metadata": {},
   "source": [
    "Let's view the information was entered into each of these tables:"
   ]
  },
  {
   "cell_type": "code",
   "execution_count": null,
   "metadata": {},
   "outputs": [],
   "source": [
    "ephys.EphysRecording()"
   ]
  },
  {
   "cell_type": "code",
   "execution_count": null,
   "metadata": {},
   "outputs": [],
   "source": [
    "ephys.EphysRecording.EphysFile()"
   ]
  },
  {
   "attachments": {},
   "cell_type": "markdown",
   "metadata": {},
   "source": [
    "### **Run the Clustering Task**\n",
    "\n",
    "We're almost ready to spike sort the data with `kilosort`. An important step before\n",
    "processing is managing the parameters which will be used in that step. To do so, we will\n",
    "define the kilosort parameters in a dictionary and insert them into a DataJoint table\n",
    "`ClusteringParamSet`. This table keeps track of all combinations of your spike sorting\n",
    "parameters. You can choose which parameters are used during processing in a later step.\n",
    "\n",
    "Let's view the attributes and insert data into `ephys.ClusteringParamSet`."
   ]
  },
  {
   "cell_type": "code",
   "execution_count": null,
   "metadata": {},
   "outputs": [],
   "source": [
    "ephys.ClusteringParamSet.heading"
   ]
  },
  {
   "cell_type": "code",
   "execution_count": null,
   "metadata": {},
   "outputs": [],
   "source": [
    "# insert clustering task manually\n",
    "params_ks = {\n",
    "    \"fs\": 30000,\n",
    "    \"fshigh\": 150,\n",
    "    \"minfr_goodchannels\": 0.1,\n",
    "    \"Th\": [10, 4],\n",
    "    \"lam\": 10,\n",
    "    \"AUCsplit\": 0.9,\n",
    "    \"minFR\": 0.02,\n",
    "    \"momentum\": [20, 400],\n",
    "    \"sigmaMask\": 30,\n",
    "    \"ThPr\": 8,\n",
    "    \"spkTh\": -6,\n",
    "    \"reorder\": 1,\n",
    "    \"nskip\": 25,\n",
    "    \"GPU\": 1,\n",
    "    \"Nfilt\": 1024,\n",
    "    \"nfilt_factor\": 4,\n",
    "    \"ntbuff\": 64,\n",
    "    \"whiteningRange\": 32,\n",
    "    \"nSkipCov\": 25,\n",
    "    \"scaleproc\": 200,\n",
    "    \"nPCs\": 3,\n",
    "    \"useRAM\": 0,\n",
    "}\n",
    "ephys.ClusteringParamSet.insert_new_params(\n",
    "    clustering_method=\"kilosort2\",\n",
    "    paramset_idx=0,\n",
    "    params=params_ks,\n",
    "    paramset_desc=\"Spike sorting using Kilosort2\",\n",
    ")\n",
    "ephys.ClusteringParamSet()"
   ]
  },
  {
   "attachments": {},
   "cell_type": "markdown",
   "metadata": {},
   "source": [
    "DataJoint uses a `ClusteringTask` table to\n",
    "manage which `EphysRecording` and `ClusteringParamSet` should be used during processing. \n",
    "\n",
    "This table is important for defining several important aspects of\n",
    "downstream processing. Let's view the attributes to get a better understanding. "
   ]
  },
  {
   "cell_type": "code",
   "execution_count": null,
   "metadata": {},
   "outputs": [],
   "source": [
    "ephys.ClusteringTask.heading"
   ]
  },
  {
   "attachments": {},
   "cell_type": "markdown",
   "metadata": {},
   "source": [
    "The `ClusteringTask` table contains two important attributes: \n",
    "+ `paramset_idx` - Allows the user to choose the parameter set with which you want to\n",
    "  run spike sorting.\n",
    "+ `task_mode` - Can be set to `load` or `trigger`. When set to `load`, running the\n",
    "  Clustering step initiates a search for existing output files of the spike sorting\n",
    "  algorithm defined in `ClusteringParamSet`. When set to `trigger`, the processing step\n",
    "  will run spike sorting on the raw data."
   ]
  },
  {
   "cell_type": "code",
   "execution_count": null,
   "metadata": {},
   "outputs": [],
   "source": [
    "ephys.ClusteringTask.insert1(\n",
    "    dict(\n",
    "        session_key,\n",
    "        insertion_number=1,\n",
    "        paramset_idx=0,\n",
    "        task_mode=\"load\",  # load or trigger\n",
    "        clustering_output_dir=\"processed/subject5/session1/probe_1/kilosort2-5_1\",\n",
    "    )\n",
    ")"
   ]
  },
  {
   "cell_type": "markdown",
   "metadata": {},
   "source": [
    "Let's call populate on the `Clustering` table which checks for kilosort results since `task_mode=load`."
   ]
  },
  {
   "cell_type": "code",
   "execution_count": null,
   "metadata": {},
   "outputs": [],
   "source": [
    "ephys.Clustering.populate(session_key, display_progress=True)"
   ]
  },
  {
   "cell_type": "markdown",
   "metadata": {},
   "source": [
    "### **Curate the results (Optional)**\n",
    "\n",
    "While spike sorting is completed in the above step, you can optionally curate\n",
    "the output of image processing using the `Curation` table. For this demo, we\n",
    "will simply use the results of the spike sorting output from the `Clustering` task."
   ]
  },
  {
   "cell_type": "code",
   "execution_count": null,
   "metadata": {},
   "outputs": [],
   "source": [
    "ephys.Curation.heading"
   ]
  },
  {
   "cell_type": "code",
   "execution_count": null,
   "metadata": {},
   "outputs": [],
   "source": [
    "clustering_key = (ephys.ClusteringTask & session_key).fetch1(\"KEY\")\n",
    "ephys.Curation().create1_from_clustering_task(clustering_key)"
   ]
  },
  {
   "attachments": {},
   "cell_type": "markdown",
   "metadata": {},
   "source": [
    "Once the `Curation` table receives an entry, we can populate the remaining\n",
    "tables in the workflow including `CuratedClustering`, `WaveformSet`, and `LFP`. "
   ]
  },
  {
   "cell_type": "code",
   "execution_count": null,
   "metadata": {},
   "outputs": [],
   "source": [
    "ephys.CuratedClustering.populate(session_key, display_progress=True)\n",
    "ephys.LFP.populate(session_key, display_progress=True)\n",
    "ephys.WaveformSet.populate(session_key, display_progress=True)"
   ]
  },
  {
   "attachments": {},
   "cell_type": "markdown",
   "metadata": {},
   "source": [
    "Now that we've populated the tables in this DataJoint pipeline, there are one of\n",
    "several next steps. If you have an existing pipeline for\n",
    "aligning waveforms to behavior data or other stimuli, you can easily\n",
    "invoke `element-event` or define your custom DataJoint tables to extend the\n",
    "pipeline."
   ]
  },
  {
   "cell_type": "markdown",
   "metadata": {},
   "source": [
    "### **Visualize the results**"
   ]
  },
  {
   "cell_type": "markdown",
   "metadata": {},
   "source": [
    "In this tutorial, we will do some exploratory analysis by fetching the data from the database and creating a few plots."
   ]
  },
  {
   "cell_type": "code",
   "execution_count": null,
   "metadata": {},
   "outputs": [],
   "source": [
    "lfp_average = (ephys.LFP & \"insertion_number = '1'\").fetch1(\"lfp_mean\")"
   ]
  },
  {
   "attachments": {},
   "cell_type": "markdown",
   "metadata": {},
   "source": [
    "In the query above, we fetch a single `lfp_mean` attribute from the `LFP` table.\n",
    "We also restrict the query to insertion number 1.\n",
    "\n",
    "Let's go ahead and plot the LFP mean."
   ]
  },
  {
   "cell_type": "code",
   "execution_count": null,
   "metadata": {},
   "outputs": [],
   "source": [
    "plt.plot(lfp_average)\n",
    "plt.title(\"Average LFP Waveform for Insertion 1\")\n",
    "plt.xlabel(\"Samples\")\n",
    "plt.ylabel(\"microvolts (uV)\");"
   ]
  },
  {
   "attachments": {},
   "cell_type": "markdown",
   "metadata": {},
   "source": [
    "DataJoint queries are a highly flexible tool to manipulate and visualize your data.\n",
    "After all, visualizing traces or generating rasters is likely just the start of\n",
    "your analysis workflow. This can also make the queries seem more complex at\n",
    "first. However, we'll walk through them slowly to simplify their content in this notebook. \n",
    "\n",
    "The examples below perform several operations using DataJoint queries:\n",
    "- Fetch the primary key attributes of all units that are in `insertion_number=1`.\n",
    "- Use **multiple restrictions** to fetch timestamps and create a raster plot.\n",
    "- Use a **join** operation and **multiple restrictions** to fetch a waveform\n",
    "  trace, along with unit data to create a single waveform plot"
   ]
  },
  {
   "cell_type": "code",
   "execution_count": null,
   "metadata": {},
   "outputs": [],
   "source": [
    "insert_key = (ephys.ProbeInsertion & \"insertion_number = '1'\").fetch1(\"KEY\")\n",
    "units, unit_spiketimes = (\n",
    "    ephys.CuratedClustering.Unit\n",
    "    & insert_key\n",
    "    & 'unit IN (\"6\",\"7\",\"9\",\"14\",\"15\",\"17\",\"19\")'\n",
    ").fetch(\"unit\", \"spike_times\")"
   ]
  },
  {
   "cell_type": "code",
   "execution_count": null,
   "metadata": {},
   "outputs": [],
   "source": [
    "x = np.hstack(unit_spiketimes)\n",
    "y = np.hstack([np.full_like(s, u) for u, s in zip(units, unit_spiketimes)])\n",
    "plt.plot(x, y, \"|\")\n",
    "plt.xlabel(\"Time (s)\")\n",
    "plt.ylabel(\"Unit\");"
   ]
  },
  {
   "cell_type": "markdown",
   "metadata": {},
   "source": [
    "Below we will use two queries to fetch *all* of the information about a single unit and\n",
    "plot the unit waveform."
   ]
  },
  {
   "cell_type": "code",
   "execution_count": null,
   "metadata": {},
   "outputs": [],
   "source": [
    "unit_key = (ephys.CuratedClustering.Unit & insert_key & \"unit = '15'\").fetch1(\"KEY\")\n",
    "unit_data = (\n",
    "    ephys.CuratedClustering.Unit * ephys.WaveformSet.PeakWaveform & unit_key\n",
    ").fetch1()"
   ]
  },
  {
   "cell_type": "code",
   "execution_count": null,
   "metadata": {},
   "outputs": [],
   "source": [
    "unit_data"
   ]
  },
  {
   "cell_type": "code",
   "execution_count": null,
   "metadata": {},
   "outputs": [],
   "source": [
    "sampling_rate = (ephys.EphysRecording & insert_key).fetch1(\n",
    "    \"sampling_rate\"\n",
    ") / 1000  # in kHz\n",
    "plt.plot(\n",
    "    np.r_[: unit_data[\"peak_electrode_waveform\"].size] * 1 / sampling_rate,\n",
    "    unit_data[\"peak_electrode_waveform\"],\n",
    ")\n",
    "plt.xlabel(\"Time (ms)\")\n",
    "plt.ylabel(r\"Voltage ($\\mu$V)\");"
   ]
  },
  {
   "cell_type": "markdown",
   "metadata": {},
   "source": [
    "## Summary\n",
    "\n",
    "Following this tutorial, we have: \n",
    "+ Covered the essential functionality of `element-array-ephys`.\n",
    "+ Learned how to manually insert data into tables.\n",
    "+ Executed and ingested results of spike sorting with Kilosort.\n",
    "+ Visualized the results. \n",
    "\n",
    "#### Documentation and DataJoint Tutorials\n",
    "\n",
    "+ [Detailed documentation on\n",
    "  `element-array-ephys`.](https://datajoint.com/docs/elements/element-array-ephys/)\n",
    "+ [General `datajoint-python`\n",
    "  tutorials.](https://github.com/datajoint/datajoint-tutorials) covering fundamentals,\n",
    "  such as table tiers, query operations, fetch operations, automated computations with the\n",
    "  make function, and more.\n",
    "+ [Documentation for\n",
    "  `datajoint-python`.](https://datajoint.com/docs/core/datajoint-python/)\n",
    "\n",
    "##### Run this tutorial on your own data\n",
    "\n",
    "To run this tutorial notebook on your own data, please use the following steps:\n",
    "+ Download the [mysql-docker image for\n",
    "  DataJoint](https://github.com/datajoint/mysql-docker) and run the container according\n",
    "  to the instructions provide in the repository.\n",
    "+ Create a fork of this repository to your GitHub account.\n",
    "+ Clone the repository and open the files using your IDE.\n",
    "+ Add a code cell immediately after the first code cell in the notebook - we will setup\n",
    "  the local connection using this cell. In this cell, type in the following code. \n",
    "\n",
    "```python\n",
    "import datajoint as dj\n",
    "dj.config[\"database.host\"] = \"localhost\"\n",
    "dj.config[\"database.user\"] = \"<your-username>\"\n",
    "dj.config[\"database.password\"] = \"<your-password>\"\n",
    "dj.config[\"custom\"] = {\"imaging_root_data_dir\": \"path/to/your/data/dir\",\n",
    "\"database_prefix\": \"<your-username_>\"}\n",
    "dj.config.save_local()\n",
    "dj.conn()\n",
    "```\n",
    "\n",
    "+ Run the code block above and proceed with the rest of the notebook."
   ]
  },
  {
   "cell_type": "code",
   "execution_count": null,
   "metadata": {},
   "outputs": [],
   "source": []
  }
 ],
 "metadata": {
  "kernelspec": {
   "display_name": "python3p10",
   "language": "python",
   "name": "python3"
  },
  "language_info": {
   "codemirror_mode": {
    "name": "ipython",
    "version": 3
   },
   "file_extension": ".py",
   "mimetype": "text/x-python",
   "name": "python",
   "nbconvert_exporter": "python",
   "pygments_lexer": "ipython3",
   "version": "3.9.17"
  },
  "orig_nbformat": 4,
  "vscode": {
   "interpreter": {
    "hash": "ff52d424e56dd643d8b2ec122f40a2e279e94970100b4e6430cb9025a65ba4cf"
   }
  }
 },
 "nbformat": 4,
 "nbformat_minor": 2
}
